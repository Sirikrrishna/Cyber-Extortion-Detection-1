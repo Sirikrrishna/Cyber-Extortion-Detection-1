{
 "cells": [
  {
   "cell_type": "markdown",
   "id": "2211bc73",
   "metadata": {},
   "source": [
    "### DATA PRE-PROCESSING"
   ]
  },
  {
   "cell_type": "code",
   "execution_count": 1,
   "id": "64c14ab7",
   "metadata": {},
   "outputs": [],
   "source": [
    "import numpy as np\n",
    "import pandas as pd\n",
    "from scipy.stats import boxcox\n",
    "from tqdm.notebook import tqdm\n",
    "import datetime\n",
    "import seaborn as sns\n",
    "import matplotlib.pyplot as plt"
   ]
  },
  {
   "cell_type": "code",
   "execution_count": 2,
   "id": "7a225f11",
   "metadata": {},
   "outputs": [],
   "source": [
    "df = pd.read_csv(\"Group_15_data_cleaned.csv\")"
   ]
  },
  {
   "cell_type": "code",
   "execution_count": 3,
   "id": "8ea3436b",
   "metadata": {},
   "outputs": [
    {
     "data": {
      "text/html": [
       "<div>\n",
       "<style scoped>\n",
       "    .dataframe tbody tr th:only-of-type {\n",
       "        vertical-align: middle;\n",
       "    }\n",
       "\n",
       "    .dataframe tbody tr th {\n",
       "        vertical-align: top;\n",
       "    }\n",
       "\n",
       "    .dataframe thead th {\n",
       "        text-align: right;\n",
       "    }\n",
       "</style>\n",
       "<table border=\"1\" class=\"dataframe\">\n",
       "  <thead>\n",
       "    <tr style=\"text-align: right;\">\n",
       "      <th></th>\n",
       "      <th>Unnamed: 0</th>\n",
       "      <th>address</th>\n",
       "      <th>year</th>\n",
       "      <th>day</th>\n",
       "      <th>length</th>\n",
       "      <th>weight</th>\n",
       "      <th>count</th>\n",
       "      <th>looped</th>\n",
       "      <th>neighbors</th>\n",
       "      <th>income</th>\n",
       "      <th>label</th>\n",
       "      <th>Label-0/1</th>\n",
       "    </tr>\n",
       "  </thead>\n",
       "  <tbody>\n",
       "    <tr>\n",
       "      <th>0</th>\n",
       "      <td>0</td>\n",
       "      <td>111K8kZAEnJg245r2cM6y9zgJGHZtJPy6</td>\n",
       "      <td>2017</td>\n",
       "      <td>11</td>\n",
       "      <td>18</td>\n",
       "      <td>0.008333</td>\n",
       "      <td>1</td>\n",
       "      <td>0</td>\n",
       "      <td>2</td>\n",
       "      <td>100050000.0</td>\n",
       "      <td>princetonCerber</td>\n",
       "      <td>1.0</td>\n",
       "    </tr>\n",
       "    <tr>\n",
       "      <th>1</th>\n",
       "      <td>1</td>\n",
       "      <td>1123pJv8jzeFQaCV4w644pzQJzVWay2zcA</td>\n",
       "      <td>2016</td>\n",
       "      <td>132</td>\n",
       "      <td>44</td>\n",
       "      <td>0.000244</td>\n",
       "      <td>1</td>\n",
       "      <td>0</td>\n",
       "      <td>1</td>\n",
       "      <td>100000000.0</td>\n",
       "      <td>princetonLocky</td>\n",
       "      <td>1.0</td>\n",
       "    </tr>\n",
       "    <tr>\n",
       "      <th>2</th>\n",
       "      <td>2</td>\n",
       "      <td>112536im7hy6wtKbpH1qYDWtTyMRAcA2p7</td>\n",
       "      <td>2016</td>\n",
       "      <td>246</td>\n",
       "      <td>0</td>\n",
       "      <td>1.000000</td>\n",
       "      <td>1</td>\n",
       "      <td>0</td>\n",
       "      <td>2</td>\n",
       "      <td>200000000.0</td>\n",
       "      <td>princetonCerber</td>\n",
       "      <td>1.0</td>\n",
       "    </tr>\n",
       "    <tr>\n",
       "      <th>3</th>\n",
       "      <td>3</td>\n",
       "      <td>1126eDRw2wqSkWosjTCre8cjjQW8sSeWH7</td>\n",
       "      <td>2016</td>\n",
       "      <td>322</td>\n",
       "      <td>72</td>\n",
       "      <td>0.003906</td>\n",
       "      <td>1</td>\n",
       "      <td>0</td>\n",
       "      <td>2</td>\n",
       "      <td>71200000.0</td>\n",
       "      <td>princetonCerber</td>\n",
       "      <td>1.0</td>\n",
       "    </tr>\n",
       "    <tr>\n",
       "      <th>4</th>\n",
       "      <td>4</td>\n",
       "      <td>1129TSjKtx65E35GiUo4AYVeyo48twbrGX</td>\n",
       "      <td>2016</td>\n",
       "      <td>238</td>\n",
       "      <td>144</td>\n",
       "      <td>0.072848</td>\n",
       "      <td>456</td>\n",
       "      <td>0</td>\n",
       "      <td>1</td>\n",
       "      <td>200000000.0</td>\n",
       "      <td>princetonLocky</td>\n",
       "      <td>1.0</td>\n",
       "    </tr>\n",
       "  </tbody>\n",
       "</table>\n",
       "</div>"
      ],
      "text/plain": [
       "   Unnamed: 0                             address  year  day  length  \\\n",
       "0           0   111K8kZAEnJg245r2cM6y9zgJGHZtJPy6  2017   11      18   \n",
       "1           1  1123pJv8jzeFQaCV4w644pzQJzVWay2zcA  2016  132      44   \n",
       "2           2  112536im7hy6wtKbpH1qYDWtTyMRAcA2p7  2016  246       0   \n",
       "3           3  1126eDRw2wqSkWosjTCre8cjjQW8sSeWH7  2016  322      72   \n",
       "4           4  1129TSjKtx65E35GiUo4AYVeyo48twbrGX  2016  238     144   \n",
       "\n",
       "     weight  count  looped  neighbors       income            label  Label-0/1  \n",
       "0  0.008333      1       0          2  100050000.0  princetonCerber        1.0  \n",
       "1  0.000244      1       0          1  100000000.0   princetonLocky        1.0  \n",
       "2  1.000000      1       0          2  200000000.0  princetonCerber        1.0  \n",
       "3  0.003906      1       0          2   71200000.0  princetonCerber        1.0  \n",
       "4  0.072848    456       0          1  200000000.0   princetonLocky        1.0  "
      ]
     },
     "execution_count": 3,
     "metadata": {},
     "output_type": "execute_result"
    }
   ],
   "source": [
    "df.head()"
   ]
  },
  {
   "cell_type": "markdown",
   "id": "81889cff",
   "metadata": {},
   "source": [
    "### CONSTRUCTING NEW FEATURES"
   ]
  },
  {
   "cell_type": "markdown",
   "id": "094782fe",
   "metadata": {},
   "source": [
    "#### 1. n_address_feature \n",
    "The feature contains the number of times the address has been seen in the training set (boxcox transformation applied)"
   ]
  },
  {
   "cell_type": "code",
   "execution_count": 4,
   "id": "ce3094e4",
   "metadata": {},
   "outputs": [],
   "source": [
    "dict_n_address = dict(df['address'].value_counts())"
   ]
  },
  {
   "cell_type": "code",
   "execution_count": 5,
   "id": "9e1ad47f",
   "metadata": {},
   "outputs": [
    {
     "data": {
      "text/plain": [
       "array([0.04000284, 0.04000284, 0.04000284, ..., 0.        , 0.        ,\n",
       "       0.        ])"
      ]
     },
     "execution_count": 5,
     "metadata": {},
     "output_type": "execute_result"
    }
   ],
   "source": [
    "n_address = boxcox(np.array(list(dict_n_address.values())))[0]\n",
    "n_address"
   ]
  },
  {
   "cell_type": "markdown",
   "id": "50ecad71",
   "metadata": {},
   "source": [
    "We are updating the dictionary with number of times each address appears with the boxcox transformation applied to fix the skewness"
   ]
  },
  {
   "cell_type": "code",
   "execution_count": 6,
   "id": "ab92fddf",
   "metadata": {},
   "outputs": [
    {
     "data": {
      "application/vnd.jupyter.widget-view+json": {
       "model_id": "dfbab66dfda4482991dc9f5c31cc7e9e",
       "version_major": 2,
       "version_minor": 0
      },
      "text/plain": [
       "0it [00:00, ?it/s]"
      ]
     },
     "metadata": {},
     "output_type": "display_data"
    }
   ],
   "source": [
    "for index, key in tqdm(enumerate(dict_n_address.keys())):\n",
    "    updated = {key: n_address[index]}\n",
    "    dict_n_address.update(updated)"
   ]
  },
  {
   "cell_type": "code",
   "execution_count": 7,
   "id": "c5682dbe",
   "metadata": {},
   "outputs": [
    {
     "data": {
      "text/plain": [
       "0.000000    2534328\n",
       "0.040003      54686\n",
       "0.040003      17704\n",
       "0.040003      16749\n",
       "0.040003       7628\n",
       "dtype: int64"
      ]
     },
     "execution_count": 7,
     "metadata": {},
     "output_type": "execute_result"
    }
   ],
   "source": [
    "pd.Series(list(dict_n_address.values())).value_counts()"
   ]
  },
  {
   "cell_type": "markdown",
   "id": "c8ade31d",
   "metadata": {},
   "source": [
    "We are getting a list of the new values, for each address in the training set we are appending its corresponding boxcox'd number of times its appeared in training set"
   ]
  },
  {
   "cell_type": "code",
   "execution_count": null,
   "id": "fc8be4f5",
   "metadata": {},
   "outputs": [
    {
     "data": {
      "application/vnd.jupyter.widget-view+json": {
       "model_id": "8083f038764745d6be2dbe22eb68fb46",
       "version_major": 2,
       "version_minor": 0
      },
      "text/plain": [
       "  0%|          | 0/2916697 [00:00<?, ?it/s]"
      ]
     },
     "metadata": {},
     "output_type": "display_data"
    }
   ],
   "source": [
    "n_address_feature = np.array([])\n",
    "\n",
    "for index, row in tqdm(df.iterrows(), total=df.shape[0]):\n",
    "    #We are getting a list of the new values\n",
    "    #For each address in the training set we are appending its corresponding boxcox'd\n",
    "    #number of times its appeared in training set\n",
    "\n",
    "    n_address_i = dict_n_address.get(df.loc[index]['address']) \n",
    "    n_address_feature = np.append(n_address_feature, n_address_i)"
   ]
  },
  {
   "cell_type": "code",
   "execution_count": null,
   "id": "d80c5830",
   "metadata": {},
   "outputs": [],
   "source": [
    "df['n_address'] = n_address_feature "
   ]
  },
  {
   "cell_type": "markdown",
   "id": "5b8851a1",
   "metadata": {},
   "source": [
    "#### 2. quarter_number\n",
    "Feature indicates which quarter of the year the day number belongs to"
   ]
  },
  {
   "cell_type": "code",
   "execution_count": null,
   "id": "7a47d480",
   "metadata": {},
   "outputs": [],
   "source": [
    "def get_quarter(day):\n",
    "    if day <= 91:\n",
    "        #First 3 months, so we return quarter number = 1\n",
    "        return 1\n",
    "    elif day <= 91 * 2:\n",
    "        #Next 3 months, quarter number = 2\n",
    "        return 2\n",
    "    elif day <= 91 * 3:\n",
    "        #Next 3 months, quarter number = 3\n",
    "        return 3\n",
    "    else:\n",
    "        #Last 4 months, quarter number = 4\n",
    "        return 4\n",
    "\n",
    "quarter_number_feature = np.array([])\n",
    "\n",
    "day_t = df['day']\n",
    "\n",
    "for day in tqdm(day_t):\n",
    "    #For each day, we append its correspoding quarter number\n",
    "                                                                                                                                                                                                                                                                                                                                                                                                                                                                                                                                                                                                                                                                                                                                                                                                                                                                                                                                                                                                                                                                                                                                                                                                                                                                                                                                                                                                                                                                                                                                                                                                                                                                                                                                                                                                                                                                                                                                                                                                                                                                                                                                                                                                                                                                                                                                                                                                                                                                                                                                                                                                                                                                                                                                                                                                                                                                                                                                                                                                                                                                                                                                                                                                                                                                                                                                                                                                                                                                                                                                                                                                                                                                                                                                                                                                                                                                                                                                                                                                                                                                                                                                                                                                                                                                                                                                                                                                                                                                                                                                                                                                                                                                                                                                                                                                                                                                                                                                                                                                                                                                                                                                                                                                                                                                                                                                                                                                                                                                                                                                                                                                                                                                                                                                                                                                                                                                                                                                                                                                                                                                                                                                                                                                                                                                                                                                                                                                                                                                                                                                                                                                                                                                                                                                                                                                                                                                                                                                                                                                                                                                                                                                                                                                                                                                                                                                                                                                                                                                                                                                                                                                                                                                                                                                                                                                                                                                                                                                                                                                                                                                                                                                                                                                                                                                                                                                                                                                                                                                                                                                                                                                                                                                                                                                                                                                                                                                                                                                                                                                                                                                                                                                                                                                                                                                                                                                                                                                                                                                                                                                                                                                                                                                                                                                                                                                                                                                                                                                                                                                                                                                                                                                                                                                                                                                                                                                                                                                                                                                                                                                                                                                                                                                                                                                                                                                                                                                                                                                                                                                                                                                                                                                                                                                                                                                                                                                                                                                                                                                                                                                                                                                                                                                                                                                                                                                                                                                                                                                                                                                                                                                                                                                                                                                                                                                                                                                                                                                                                                                                                                                                                                                                                                                                                                                                                                                                                                                                                                                                                                                                                                                                                                                                                                                                                                                                                                                                                                                                                                                                                                                                                                                                                                                                                                                                                                                                                                                                                                                                                                                                                                                                                                                                                                                                                                                                                                                                                                                                                                                                                                                                                                                                                                                                                                                                                                                                                                                                                                                                                                                                                                                                                                                                                                                                                                                                                                                                                                                                                                                                                                                                                                                                                                                                                                                                                                                                                                                                                                                                                                                                                                                                                                                                                                                                                                                                                                                                                                                                                                                                                                                                                                                                                                                                                                                                                                                                                                                                                                                                                                                                                                                                                                                                                                                                                                                                                                                                                                                                                                                                                                                                                                                                                                                                                                                                                                                                                                                                                                                                                                                                                                                                                                                                                                                                                                                                                                                                                                                                                                                                                                                                                                                                                                                                                                                                                                                                                                                                                                                                                                                                                                                                                                                                                                                                                                                                                                                                                                                                                                                                                                                                                                                                                                                                                                                                                                                                                                                                                                                                                                                                                                                                                                                                                                                                                                                                                                                                                                                                                                                                                                                                                                                                                                                                                                                                                                                                                                                                                                                                                                                                                                                                                                                                                                                                                                                                                                                                                                                                                                                                                                                                                                                                                                                                                                                                                                                                                                                                                                                                                                                                                                                                                                                                                                                                                                                                                                                                                                                                                                                                                                                                                                                                                                                                                                                                                                                                                                                                                                                                                                                                                                                                                                                                                                                                                                                                                                                                                                                                                                                                                                                                                                                                                                                                                                                                                                                                                                                                                                                                                                                                                                                                                                                                                                                                                                                                                                                                                                                                                                                                                                                                                                                                                                                                                                                                                                                                                                                                                                                                                                                                                                                                                                                                                                                                                                                                                                                                                                                                                                                                                                                                                                                                                                                                                                                                                                                                                                                                                                                                                                                                                                                                                                                                                                                                                                                                                                                                                                                                                                                                                                                                                                                                                                                                                                                                                                                                                                                                                                                                                                                                                                                                                                                                                                                                                                                                                                                                                                                                                                                                                                                                                                                                                                                                                                                                                                                                                                                                                                                                                                                                                                                                                                                                                                                                                                                                                                                                                                                                                                                                                                                                                                                                                                                                                                                                                                                                                                                                                                                                                                                                                                                                                                                                                                                                                                                                                                                                                                                                                                                                                                                                                                                                                                                                                                                                                                                                                                                                                                                                                                                                                                                                                                                                                                                                                                                                                                                                                                                                                                                                                                                                                                                                                                                                                                                                                                                                                                                                                                                                                                                                                                                                                                                                                                                                                                                                                                                                                                                                                                                                                                                                                                                                                                                                                                                                                                                                                                                                                                                                                                                                                                                                                                                                                                                                                                                                                                                                                                                                                                                                                                                                                                                                                                                                                                                                                                                                                                                                                                                                                                                                                                                                                                                                                                                                                                                                                                                                                                                                                                                                                                                                                                                                                                                                                                                                                                                                                                                                                                                                                                                                                                                                                                                                                                                                                                                                                                                                                                                                                                                                                                                                                                                                                                                                                                                                                                                                                                                                                                                                                                                                                                                                                                                                                                                                                                                                                                                                                                                                                                                                                                                                                                                                                                                                                                                                                                                                                                                                                                                                                                                                                                                                                                                                                                                                                                                                                                                                                                                                                                                                                                                                                                                                                                                                                                                                                                                                                                                                                                                                                                                                                                                                                                                                                                                                                                                                                                                                                                                                                                                                                                                                                                                                                                                                                                                                                                                                                                                                                                                                                                                                                                                                                                                                                                                                                                                                                                                                                                                                                                                                                                                                                                                                                                                                                                                                                                                                                                                                                                                                                                                                                                                                                                                                                                                                                                                                                                                                                                                                                                                                                                                                                                                                                                                                                                                                                                                                                                                                                                                                                                                                                                                                                                                                                                                                                                                                                                                                                                                                                                                                                                                                                                                                                                                                                                                                                                                                                                                                                                                                                                                                                                                                                                                                                                                                                                                                                                                                                                                                                                                                                                                                                                                                                                                                                                                                                                                                                                                                                                                                                                                                                                                                                                                                                                                                                                                                                                                                                                                                                                                                                                                                                                                                                                                                                                                                                                                                                                                                                                                                                                                                                                                                                                                                                                                                                                                                                                                                                                                                                                                                                                                                                                                                                                                                                                                                                                                                                                                                                                                                                                                                                                                                                                                                                                                                                                                                                                                                                                                                                                                                                                                                                                                                                                                                                                                                                                                                                                                                                                                                                                                                                                                                                                                                                                                                                                                                                                                                                                                                                                                                                                                                                                                                                                                                                                                                                                                                                                                                                                                                                                                                                                                                                                                                                                                                                                                                                                                                                                                                                                                                                                                                                                                                                                                                                                                                                                                                                                                                                                                                                                                                                                                                                                                                                                                                                                                                                                                                                                                                                                                                                                                                                                                                                                                                                                                                                                                                                                                                                                                                                                                                                                                                                                                                                                                                                                                                                                                                                                                                                                                                                                                                                                                                                                                                                                                                                                                                                                                                                                                                                                                                                                                                                                                                                                                                                                                                                                                                                                                                                                                                                                                                                                                                                                                                                                                                                                                                                                                                                                                                                                                                                                                                                                                                                                                                                                                                                                                                                                                                                                                                                                                                                                                                                                                                                                                                                                                                                                                                                                                                                                                                                                                                                                                                                                                                                                                                                                                                                                                                                                                                                                                                                                                                                                                                                                                                                                                                                                                                                                                                                                                                                                                                                                                                                                                                                                                                                                                                                                                                                                                                                                                                                                                                                                                                                                                                                                                                                                                                                                                                                                                                                                                                                                                                                                                                                                                                                                                                                                                                                                                                                                                                                                                                                                                                                                                                                                                                                                                                                                                                                                                                                                                                                                                                                                                                                                                                                                                                                                                                                                                                                                                                                                                                                                                                                                                                                                                                                                                                                                                                                                                                                                                                                                                                                                                                                                                                                                                                                                                                                                                                                                                                                                                                                                                                                                                                                                                                                                                                                                                                                                                                                                                                                                                                                                                                                                                                                                                                                                                                                                                                                                                                                                                                                                                                                                                                                                                                                                                                                                                                                                                                                                                                                                                                                                                                                                                                                                                                                                                                                                                                                                                                                                                                                                                                                                                                                                                                                                                                                                                                                                                                                                                                                                                                                                                                                                                                                                                                                                                                                                                                                                                                                                                                                                                                                                                                                                                                                                                                                                                                                                                                                                                                                                                                                                                                                                                                                                                                                                                                                                                                                                                                                                                                                                                                                                                                                                                                                                                                                                                                                                                                                                                                                                                                                                                                                                                                                                                                                                                                                                                                                                                                                                                                                                                                                                                                                                                                                                                                                                                                                                                                                                                                                                                                                                                                                                                                                                                                                                                                                                                                                                                                                                                                                                                                                                                                                                                                                                                                                                                                                                                                                                                                                                                                                                                                                                                                                                                                                                                                                                                                                                                                                                                                                                                                                                                                                                                                                                                                                                                                                                                                                                                                                                                                                                                                                                                                                                                                                                                                                                                                                                                                                                                                                                                                                                                                                                                                                                                                                                                                                                                                                                                                                                                                                                                                                                                                                                                                                                                                                                                                                                                                                                                                                                                                                                                                                                                                                                                                                                                                                                                                                                                                                                                                                                                                                                                                                                                                                                                                                                                                                                                                                                                                                                                                                                                                                                                                                                                                                                                                                                                                                                                                                                                                                                                                                                                                                                                                                                                                                                                                                                                                                                                                                                                                                                                                                                                                                                                                                                                                                                                                                                                                                                                                                                                                                                                                                                                                                                                                                                                                                                                                                                                                                                                                                                                                                                                                                                                                                                                                                                                                                                                                                                                                                                                                                                                                                                                                                                                                                                                                                                                                                                                                                                                                                                                                                                                                                                                                                                                                                                                                                                                                                                                                                                                                                                                                                                                                                                                                                                                                                                                                                                                                                                                                                                                                                                                                                                                                                                                                                                                                                                                                                                                                                                                                                                                                                                                                                                                                                                                                                                                                                                                                                                                                                                                                                                                                                                                                                                                                                                                                                                                                                                                                                                                                                                                                                                                                                                                                                                                                                                                                                                                                                                                                                                                                                                                                                                                                                                                                                                                                                                                                                                                                                                                                                                                                                                                                                                                                                                                                                                                                                                                                                                                                                                                                                                                                                                                                                                                                                                                                                                                                                                                                                                                                                                                                                                                                                                                                                                                                                                                                                                                                                                                                                                                                                                                                                                                                                                                                                                                                                                                                                                                                                                                                                                                                                                                                                                                                                                                                                                                                                                                                                                                                                                                                                                                                                                             \n",
    "    quarter_number_feature = np.append(quarter_number_feature, get_quarter(day))"
   ]
  },
  {
   "cell_type": "markdown",
   "id": "c96eed9e",
   "metadata": {},
   "source": [
    "#### 3. day_of_the_week\n",
    "Feature indicates the number of the weekday (for eg: 0 for Monday and 6 for Sunday). The hypothesis is that the day of the week might correlate with the nature of the transaction\n",
    "\n",
    "* return day number (0 for monday, 6 for sunday) for day_i\n",
    "* For each data-point, we consider its year and day and calculate what day of the week (Monday, Tuesday, etc) it was when the transaction happened\n",
    "\n",
    "* datetime.datetime(year, 1, 1).weekday() returns the first day of the year in the year = year using this information, we can calculate the present day"
   ]
  },
  {
   "cell_type": "code",
   "execution_count": null,
   "id": "68251c8b",
   "metadata": {},
   "outputs": [],
   "source": [
    "def get_day_number(first_day, day_i):\n",
    "    return (first_day + day_i - 1) % 7\n",
    "\n",
    "day_of_the_week = np.array([])\n"
   ]
  },
  {
   "cell_type": "code",
   "execution_count": null,
   "id": "86c4f0c6",
   "metadata": {},
   "outputs": [],
   "source": [
    "day_of_week_train = np.array([])\n",
    "for index, row in tqdm(df.iterrows(),total = df.shape[0]):\n",
    "    year_i, day_i = row['year'], row['day']\n",
    "    day_of_week_train = np.append(day_of_week_train, get_day_number(datetime.datetime(year_i, 1, 1).weekday(), day_i))"
   ]
  },
  {
   "cell_type": "code",
   "execution_count": null,
   "id": "76028287",
   "metadata": {},
   "outputs": [],
   "source": [
    "df.drop(['Unnamed: 0'], axis = 1, inplace = True)"
   ]
  },
  {
   "cell_type": "code",
   "execution_count": null,
   "id": "b9eeb2a4",
   "metadata": {},
   "outputs": [],
   "source": [
    "range(0,df.shape[0])"
   ]
  },
  {
   "cell_type": "markdown",
   "id": "d469f1b8",
   "metadata": {},
   "source": [
    "#### 4. guassian_length\n",
    "\n",
    "* Feature tries to fix the skewness of the length variable. This is done by applying complex functions over the length feature and then performing a boxcox operation on it"
   ]
  },
  {
   "cell_type": "code",
   "execution_count": null,
   "id": "7d6020c2",
   "metadata": {},
   "outputs": [],
   "source": [
    "sns.distplot(boxcox((np.sin(np.log(np.sqrt(np.array(df['length']) + 1e-6)))) ** 2)[0])\n",
    "plt.title('Trignometric and Transcendental functions on length ')\n",
    "plt.show()"
   ]
  },
  {
   "cell_type": "code",
   "execution_count": null,
   "id": "a22483f4",
   "metadata": {},
   "outputs": [],
   "source": [
    "gaussian_length = boxcox((np.sin(np.log(np.sqrt(np.array(df['length']) + 1e-6)))) ** 2)[0]"
   ]
  },
  {
   "cell_type": "markdown",
   "id": "518a0781",
   "metadata": {},
   "source": [
    "#### 5. gaussian_weight\n",
    "* Feature corrects for the skewedness in weight"
   ]
  },
  {
   "cell_type": "code",
   "execution_count": null,
   "id": "119285e8",
   "metadata": {},
   "outputs": [],
   "source": [
    "gaussian_weight = np.array(boxcox(np.array(df['weight'],  dtype=np.longdouble))[0])"
   ]
  },
  {
   "cell_type": "markdown",
   "id": "a20046f3",
   "metadata": {},
   "source": [
    "#### 6. log_count\n",
    "* Performing log-transformation to fix skewedness"
   ]
  },
  {
   "cell_type": "code",
   "execution_count": null,
   "id": "97d3a85a",
   "metadata": {},
   "outputs": [],
   "source": [
    "log_count = np.log(np.array(df['count']) + 1e-6)"
   ]
  },
  {
   "cell_type": "markdown",
   "id": "401bef32",
   "metadata": {},
   "source": [
    "#### 7. sigmoid_looped\n",
    "* Performing sigmoid operation to fix skewedness"
   ]
  },
  {
   "cell_type": "code",
   "execution_count": null,
   "id": "37d3d78b",
   "metadata": {},
   "outputs": [],
   "source": [
    "def sigmoid(x):\n",
    "    #returns the logistic function of x\n",
    "    \n",
    "    return 1 / (1 + np.exp(-x))"
   ]
  },
  {
   "cell_type": "code",
   "execution_count": null,
   "id": "811d866c",
   "metadata": {},
   "outputs": [],
   "source": [
    "sigmoid_looped = sigmoid(np.array(df['looped']))"
   ]
  },
  {
   "cell_type": "markdown",
   "id": "de6e3ef5",
   "metadata": {},
   "source": [
    "#### 8. gaussian_neighbors¶\n",
    "* Feature tries to account for the extreme skewedness of neighbors by applying boxcox transformation"
   ]
  },
  {
   "cell_type": "code",
   "execution_count": null,
   "id": "a2b59568",
   "metadata": {},
   "outputs": [],
   "source": [
    "gaussian_neighbors = boxcox(np.array(df['neighbors']) + 1e-6)[0]"
   ]
  },
  {
   "cell_type": "markdown",
   "id": "4a29fe0b",
   "metadata": {},
   "source": [
    "#### 9. gaussian_income\n",
    "* Feature tries to account for the extreme skewedness of income by applying boxcox transformation"
   ]
  },
  {
   "cell_type": "code",
   "execution_count": null,
   "id": "62e6aefe",
   "metadata": {},
   "outputs": [],
   "source": [
    "gaussian_income = boxcox(np.array(df['income']) + 1e-6)[0]"
   ]
  },
  {
   "cell_type": "markdown",
   "id": "5c709e35",
   "metadata": {},
   "source": [
    "#### 10. Interaction between length and weight\n",
    "* If length and weight are greater than the median, we will return 0\n",
    "* If just length is greater than the median we return 1\n",
    "* return 2 if length is lesser than median"
   ]
  },
  {
   "cell_type": "code",
   "execution_count": null,
   "id": "bfa32468",
   "metadata": {},
   "outputs": [],
   "source": [
    "median_length = np.median(df['length'])\n",
    "median_weight = np.median(df['weight'])\n",
    "\n",
    "def get_length_weight(length_i, weight_i):\n",
    "    if length_i > median_length:\n",
    "        if weight_i > median_weight:\n",
    "            return 0\n",
    "        else:\n",
    "            return 1\n",
    "    return 2\n",
    "\n",
    "#Constructing the interaction feature for train\n",
    "\n",
    "interaction_length_weight = np.array([])\n"
   ]
  },
  {
   "cell_type": "code",
   "execution_count": null,
   "id": "1565dbf1",
   "metadata": {},
   "outputs": [],
   "source": [
    "for index, row in tqdm(df.iterrows(), total=df.shape[0]):\n",
    "    interaction_length_weight = np.append(interaction_length_weight, get_length_weight(row['length'], row['weight']))"
   ]
  },
  {
   "cell_type": "markdown",
   "id": "96ce435a",
   "metadata": {},
   "source": [
    "#### 11. Interaction between log-count and gaussian-income\n",
    "* Return 0 if both log_count and gaussian_income are greater than their medians\n",
    "* return 1 if just log_count is greater than median\n",
    "* return 2 if log count is lesser than median"
   ]
  },
  {
   "cell_type": "code",
   "execution_count": null,
   "id": "a3e5bb6d",
   "metadata": {},
   "outputs": [],
   "source": [
    "median_count = np.median(log_count)\n",
    "median_income = np.median(gaussian_income)\n",
    "\n",
    "def get_count_income(log_count_i, gaussian_income_i):\n",
    "    if log_count_i > median_count:\n",
    "        if gaussian_income_i > median_income:\n",
    "            return 0\n",
    "        else:\n",
    "            return 1\n",
    "    return 2\n",
    "\n",
    "#construct the interaction feature\n",
    "    \n",
    "interaction_count_income = np.array([])"
   ]
  },
  {
   "cell_type": "code",
   "execution_count": null,
   "id": "30314994",
   "metadata": {},
   "outputs": [],
   "source": [
    "for i in tqdm(range(len(log_count))):\n",
    "    interaction_count_income = np.append(interaction_count_income, get_count_income(log_count[i], gaussian_income[i]))"
   ]
  },
  {
   "cell_type": "markdown",
   "id": "87cb052b",
   "metadata": {},
   "source": [
    "### LOADING ALL THE NEW FEATURES INTO THE DATA FRAME"
   ]
  },
  {
   "cell_type": "code",
   "execution_count": null,
   "id": "68c3b951",
   "metadata": {},
   "outputs": [],
   "source": [
    "#df['n_address'] = n_address_feature \n",
    "#df['day_of_week'] = day_of_week \n",
    "#df['quarter_number'] = quarter_number_feature \n",
    "df['gaussian_income'] = gaussian_income \n",
    "df['gaussian_neighbors'] = gaussian_neighbors \n",
    "df['gaussian_weight'] = gaussian_weight \n",
    "df['gaussian_length'] = gaussian_length \n",
    "df['log_count'] = log_count \n",
    "df['sigmoid_looped'] = sigmoid_looped \n",
    "df['interaction_count_income'] = interaction_count_income\n",
    "#df['interaction_length_weight'] = interaction_length_weight "
   ]
  },
  {
   "cell_type": "code",
   "execution_count": null,
   "id": "160abd1c",
   "metadata": {},
   "outputs": [],
   "source": [
    "df.drop(['label'], axis = 1)"
   ]
  },
  {
   "cell_type": "code",
   "execution_count": null,
   "id": "c0499709",
   "metadata": {},
   "outputs": [],
   "source": [
    "df.to_csv(\"Group_15_cleaned_PreProcessed.csv\")"
   ]
  }
 ],
 "metadata": {
  "kernelspec": {
   "display_name": "Python 3 (ipykernel)",
   "language": "python",
   "name": "python3"
  },
  "language_info": {
   "codemirror_mode": {
    "name": "ipython",
    "version": 3
   },
   "file_extension": ".py",
   "mimetype": "text/x-python",
   "name": "python",
   "nbconvert_exporter": "python",
   "pygments_lexer": "ipython3",
   "version": "3.9.13"
  }
 },
 "nbformat": 4,
 "nbformat_minor": 5
}
